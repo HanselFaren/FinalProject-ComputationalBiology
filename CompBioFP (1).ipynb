{
  "nbformat": 4,
  "nbformat_minor": 0,
  "metadata": {
    "colab": {
      "provenance": []
    },
    "kernelspec": {
      "name": "python3",
      "display_name": "Python 3"
    },
    "language_info": {
      "name": "python"
    }
  },
  "cells": [
    {
      "cell_type": "code",
      "source": [
        "!pip install Bio"
      ],
      "metadata": {
        "colab": {
          "base_uri": "https://localhost:8080/"
        },
        "id": "X_69gWVIR4IY",
        "outputId": "50182201-76f1-4075-f42c-46310aca5d38"
      },
      "execution_count": null,
      "outputs": [
        {
          "output_type": "stream",
          "name": "stdout",
          "text": [
            "Collecting Bio\n",
            "  Downloading bio-1.6.2-py3-none-any.whl (278 kB)\n",
            "\u001b[2K     \u001b[90m━━━━━━━━━━━━━━━━━━━━━━━━━━━━━━━━━━━━━━━━\u001b[0m \u001b[32m278.6/278.6 kB\u001b[0m \u001b[31m2.4 MB/s\u001b[0m eta \u001b[36m0:00:00\u001b[0m\n",
            "\u001b[?25hCollecting biopython>=1.80 (from Bio)\n",
            "  Downloading biopython-1.82-cp310-cp310-manylinux_2_17_x86_64.manylinux2014_x86_64.whl (3.1 MB)\n",
            "\u001b[2K     \u001b[90m━━━━━━━━━━━━━━━━━━━━━━━━━━━━━━━━━━━━━━━━\u001b[0m \u001b[32m3.1/3.1 MB\u001b[0m \u001b[31m24.6 MB/s\u001b[0m eta \u001b[36m0:00:00\u001b[0m\n",
            "\u001b[?25hRequirement already satisfied: requests in /usr/local/lib/python3.10/dist-packages (from Bio) (2.31.0)\n",
            "Requirement already satisfied: tqdm in /usr/local/lib/python3.10/dist-packages (from Bio) (4.66.1)\n",
            "Collecting mygene (from Bio)\n",
            "  Downloading mygene-3.2.2-py2.py3-none-any.whl (5.4 kB)\n",
            "Requirement already satisfied: pandas in /usr/local/lib/python3.10/dist-packages (from Bio) (1.5.3)\n",
            "Requirement already satisfied: pooch in /usr/local/lib/python3.10/dist-packages (from Bio) (1.8.0)\n",
            "Collecting gprofiler-official (from Bio)\n",
            "  Downloading gprofiler_official-1.0.0-py3-none-any.whl (9.3 kB)\n",
            "Requirement already satisfied: numpy in /usr/local/lib/python3.10/dist-packages (from biopython>=1.80->Bio) (1.23.5)\n",
            "Collecting biothings-client>=0.2.6 (from mygene->Bio)\n",
            "  Downloading biothings_client-0.3.1-py2.py3-none-any.whl (29 kB)\n",
            "Requirement already satisfied: python-dateutil>=2.8.1 in /usr/local/lib/python3.10/dist-packages (from pandas->Bio) (2.8.2)\n",
            "Requirement already satisfied: pytz>=2020.1 in /usr/local/lib/python3.10/dist-packages (from pandas->Bio) (2023.3.post1)\n",
            "Requirement already satisfied: platformdirs>=2.5.0 in /usr/local/lib/python3.10/dist-packages (from pooch->Bio) (4.1.0)\n",
            "Requirement already satisfied: packaging>=20.0 in /usr/local/lib/python3.10/dist-packages (from pooch->Bio) (23.2)\n",
            "Requirement already satisfied: charset-normalizer<4,>=2 in /usr/local/lib/python3.10/dist-packages (from requests->Bio) (3.3.2)\n",
            "Requirement already satisfied: idna<4,>=2.5 in /usr/local/lib/python3.10/dist-packages (from requests->Bio) (3.6)\n",
            "Requirement already satisfied: urllib3<3,>=1.21.1 in /usr/local/lib/python3.10/dist-packages (from requests->Bio) (2.0.7)\n",
            "Requirement already satisfied: certifi>=2017.4.17 in /usr/local/lib/python3.10/dist-packages (from requests->Bio) (2023.11.17)\n",
            "Requirement already satisfied: six>=1.5 in /usr/local/lib/python3.10/dist-packages (from python-dateutil>=2.8.1->pandas->Bio) (1.16.0)\n",
            "Installing collected packages: biopython, gprofiler-official, biothings-client, mygene, Bio\n",
            "Successfully installed Bio-1.6.2 biopython-1.82 biothings-client-0.3.1 gprofiler-official-1.0.0 mygene-3.2.2\n"
          ]
        }
      ]
    },
    {
      "cell_type": "code",
      "source": [
        "!apt-get install muscle"
      ],
      "metadata": {
        "colab": {
          "base_uri": "https://localhost:8080/"
        },
        "id": "Uy4t6dLOZQpK",
        "outputId": "f068fcc7-b319-4be3-addc-f5e0e247d7a0"
      },
      "execution_count": null,
      "outputs": [
        {
          "output_type": "stream",
          "name": "stdout",
          "text": [
            "Reading package lists... Done\n",
            "Building dependency tree... Done\n",
            "Reading state information... Done\n",
            "The following NEW packages will be installed:\n",
            "  muscle\n",
            "0 upgraded, 1 newly installed, 0 to remove and 24 not upgraded.\n",
            "Need to get 244 kB of archives.\n",
            "After this operation, 709 kB of additional disk space will be used.\n",
            "Get:1 http://archive.ubuntu.com/ubuntu jammy/universe amd64 muscle amd64 1:3.8.1551-2build1 [244 kB]\n",
            "Fetched 244 kB in 0s (880 kB/s)\n",
            "Selecting previously unselected package muscle.\n",
            "(Reading database ... 121654 files and directories currently installed.)\n",
            "Preparing to unpack .../muscle_1%3a3.8.1551-2build1_amd64.deb ...\n",
            "Unpacking muscle (1:3.8.1551-2build1) ...\n",
            "Setting up muscle (1:3.8.1551-2build1) ...\n",
            "Processing triggers for man-db (2.10.2-1) ...\n"
          ]
        }
      ]
    },
    {
      "cell_type": "code",
      "execution_count": null,
      "metadata": {
        "id": "LjQr9hGwP9FE"
      },
      "outputs": [],
      "source": [
        "import Bio as Bio"
      ]
    },
    {
      "cell_type": "code",
      "source": [
        "#import our three important packages\n",
        "from Bio import SeqIO\n",
        "from Bio import AlignIO\n",
        "from Bio import Phylo"
      ],
      "metadata": {
        "id": "YFqd4GWVQBTr"
      },
      "execution_count": null,
      "outputs": []
    },
    {
      "cell_type": "code",
      "source": [
        "p1 = SeqIO.parse(open(\"cat.fna\"), \"fasta\")\n",
        "p2 = SeqIO.parse(open(\"tiger.fna\"), \"fasta\")\n",
        "p3 = SeqIO.parse(open(\"lion.fna\"), \"fasta\")\n",
        "p4 = SeqIO.parse(open(\"leopard.fna\"), \"fasta\")\n",
        "p5 = SeqIO.parse(open(\"chimpanzee.fna\"), \"fasta\")\n",
        "p6 = SeqIO.parse(open(\"cow.fna\"), \"fasta\")\n",
        "p7 = SeqIO.parse(open(\"dog.fna\"), \"fasta\")\n",
        "p8 = SeqIO.parse(open(\"horse.fna\"), \"fasta\")\n",
        "p9 = SeqIO.parse(open(\"human.fna\"), \"fasta\")\n",
        "p10 = SeqIO.parse(open(\"rat.fna\"), \"fasta\")"
      ],
      "metadata": {
        "id": "lfAoD_4cQBg0",
        "colab": {
          "base_uri": "https://localhost:8080/",
          "height": 251
        },
        "outputId": "11e28555-30c5-4bde-b7fe-45d58c8b183e"
      },
      "execution_count": null,
      "outputs": [
        {
          "output_type": "error",
          "ename": "FileNotFoundError",
          "evalue": "[Errno 2] No such file or directory: 'cat.fna'",
          "traceback": [
            "\u001b[0;31m---------------------------------------------------------------------------\u001b[0m",
            "\u001b[0;31mFileNotFoundError\u001b[0m                         Traceback (most recent call last)",
            "\u001b[0;32m<ipython-input-6-e07fdeec509f>\u001b[0m in \u001b[0;36m<cell line: 1>\u001b[0;34m()\u001b[0m\n\u001b[0;32m----> 1\u001b[0;31m \u001b[0mp1\u001b[0m \u001b[0;34m=\u001b[0m \u001b[0mSeqIO\u001b[0m\u001b[0;34m.\u001b[0m\u001b[0mparse\u001b[0m\u001b[0;34m(\u001b[0m\u001b[0mopen\u001b[0m\u001b[0;34m(\u001b[0m\u001b[0;34m\"cat.fna\"\u001b[0m\u001b[0;34m)\u001b[0m\u001b[0;34m,\u001b[0m \u001b[0;34m\"fasta\"\u001b[0m\u001b[0;34m)\u001b[0m\u001b[0;34m\u001b[0m\u001b[0;34m\u001b[0m\u001b[0m\n\u001b[0m\u001b[1;32m      2\u001b[0m \u001b[0mp2\u001b[0m \u001b[0;34m=\u001b[0m \u001b[0mSeqIO\u001b[0m\u001b[0;34m.\u001b[0m\u001b[0mparse\u001b[0m\u001b[0;34m(\u001b[0m\u001b[0mopen\u001b[0m\u001b[0;34m(\u001b[0m\u001b[0;34m\"tiger.fna\"\u001b[0m\u001b[0;34m)\u001b[0m\u001b[0;34m,\u001b[0m \u001b[0;34m\"fasta\"\u001b[0m\u001b[0;34m)\u001b[0m\u001b[0;34m\u001b[0m\u001b[0;34m\u001b[0m\u001b[0m\n\u001b[1;32m      3\u001b[0m \u001b[0mp3\u001b[0m \u001b[0;34m=\u001b[0m \u001b[0mSeqIO\u001b[0m\u001b[0;34m.\u001b[0m\u001b[0mparse\u001b[0m\u001b[0;34m(\u001b[0m\u001b[0mopen\u001b[0m\u001b[0;34m(\u001b[0m\u001b[0;34m\"lion.fna\"\u001b[0m\u001b[0;34m)\u001b[0m\u001b[0;34m,\u001b[0m \u001b[0;34m\"fasta\"\u001b[0m\u001b[0;34m)\u001b[0m\u001b[0;34m\u001b[0m\u001b[0;34m\u001b[0m\u001b[0m\n\u001b[1;32m      4\u001b[0m \u001b[0mp4\u001b[0m \u001b[0;34m=\u001b[0m \u001b[0mSeqIO\u001b[0m\u001b[0;34m.\u001b[0m\u001b[0mparse\u001b[0m\u001b[0;34m(\u001b[0m\u001b[0mopen\u001b[0m\u001b[0;34m(\u001b[0m\u001b[0;34m\"leopard.fna\"\u001b[0m\u001b[0;34m)\u001b[0m\u001b[0;34m,\u001b[0m \u001b[0;34m\"fasta\"\u001b[0m\u001b[0;34m)\u001b[0m\u001b[0;34m\u001b[0m\u001b[0;34m\u001b[0m\u001b[0m\n\u001b[1;32m      5\u001b[0m \u001b[0mp5\u001b[0m \u001b[0;34m=\u001b[0m \u001b[0mSeqIO\u001b[0m\u001b[0;34m.\u001b[0m\u001b[0mparse\u001b[0m\u001b[0;34m(\u001b[0m\u001b[0mopen\u001b[0m\u001b[0;34m(\u001b[0m\u001b[0;34m\"chimpanzee.fna\"\u001b[0m\u001b[0;34m)\u001b[0m\u001b[0;34m,\u001b[0m \u001b[0;34m\"fasta\"\u001b[0m\u001b[0;34m)\u001b[0m\u001b[0;34m\u001b[0m\u001b[0;34m\u001b[0m\u001b[0m\n",
            "\u001b[0;31mFileNotFoundError\u001b[0m: [Errno 2] No such file or directory: 'cat.fna'"
          ]
        }
      ]
    },
    {
      "cell_type": "code",
      "source": [
        "p1.id = 'cat'\n",
        "p2.id = 'tiger'\n",
        "p3.id = 'lion'\n",
        "p4.id = 'leopard'\n",
        "p5.id = 'chimpanzee'\n",
        "p6.id = 'cow'\n",
        "p7.id = 'dog'\n",
        "p8.id = 'horse'\n",
        "p9.id = 'human'\n",
        "p10.id = 'rat'"
      ],
      "metadata": {
        "id": "EHmCQ6h4QBrD"
      },
      "execution_count": null,
      "outputs": []
    },
    {
      "cell_type": "code",
      "source": [
        "p1.id"
      ],
      "metadata": {
        "id": "b_Y4wuchQB6d"
      },
      "execution_count": null,
      "outputs": []
    },
    {
      "cell_type": "code",
      "source": [
        "combined_seqs = list(p1) + list(p2) + list(p3) + list(p4) + list(p5) + list(p6) + list(p7) + list(p8) + list(p9) + list(p10)\n",
        "SeqIO.write(combined_seqs, \"combined_sequence.fna\", \"fasta\")"
      ],
      "metadata": {
        "id": "vNHGgra4QCFA"
      },
      "execution_count": null,
      "outputs": []
    },
    {
      "cell_type": "code",
      "source": [
        "from Bio import SeqIO\n",
        "from Bio.Align import MultipleSeqAlignment\n",
        "from Bio.Seq import Seq\n",
        "from Bio.SeqRecord import SeqRecord\n",
        "\n",
        "def convert_fasta_to_clustal(input_fasta, output_clustal, species_names):\n",
        "    # Parse the input FASTA file\n",
        "    records = list(SeqIO.parse(open(input_fasta), \"fasta\"))\n",
        "\n",
        "    # Ensure all sequences have the same length\n",
        "    min_length = min(len(record.seq) for record in records)\n",
        "\n",
        "    # Create SeqRecord objects with trimmed/padded sequences and specified species names\n",
        "    trimmed_records = [SeqRecord(Seq(str(record.seq)[:min_length]), id=species_name) for record, species_name in zip(records, species_names)]\n",
        "\n",
        "    # Create a MultipleSeqAlignment object\n",
        "    alignment = MultipleSeqAlignment(trimmed_records)\n",
        "\n",
        "    # Write the alignment to the output CLUSTAL file\n",
        "    with open(output_clustal, 'w') as clustal_file:\n",
        "        SeqIO.write(alignment, clustal_file, 'clustal')\n",
        "\n",
        "# Replace these paths with your actual file paths\n",
        "input_combined_fasta_path = 'combined_sequence.fna'\n",
        "output_clustal_path = 'align.clw'\n",
        "\n",
        "# Specify the species names corresponding to each sequence\n",
        "species_names = ['leopard', 'chimpanzee','lion','rat','cow','tiger','dog','horse','human','cat']\n",
        "\n",
        "# Call the function to convert FASTA to CLUSTAL for combined sequences\n",
        "convert_fasta_to_clustal(input_combined_fasta_path, output_clustal_path, species_names)"
      ],
      "metadata": {
        "id": "a4r0voWrQs76"
      },
      "execution_count": null,
      "outputs": []
    },
    {
      "cell_type": "code",
      "source": [
        "# Open the alignment file as a MultipleSeqAlignment object\n",
        "with open(\"align.clw\",\"r\") as clw:\n",
        "    alignment = AlignIO.read(clw,\"clustal\")\n",
        "print(type(alignment))"
      ],
      "metadata": {
        "id": "7hlbu-NKQCPz"
      },
      "execution_count": null,
      "outputs": []
    },
    {
      "cell_type": "code",
      "source": [
        "# Open and initiate the Distance Calculator using the Identity model\n",
        "from Bio.Phylo.TreeConstruction import DistanceCalculator\n",
        "calculator = DistanceCalculator('identity')"
      ],
      "metadata": {
        "id": "Evak3qb1QCbD"
      },
      "execution_count": null,
      "outputs": []
    },
    {
      "cell_type": "code",
      "source": [
        "# Write the Distance Matrix\n",
        "distance_matrix = calculator.get_distance(alignment)\n",
        "print(distance_matrix)"
      ],
      "metadata": {
        "id": "epcDnTuaQCsQ"
      },
      "execution_count": null,
      "outputs": []
    },
    {
      "cell_type": "code",
      "source": [
        "# Create a DistanceTreeConstructor object\n",
        "from Bio.Phylo.TreeConstruction import DistanceTreeConstructor\n",
        "constructor = DistanceTreeConstructor()\n",
        "# Construct the phlyogenetic tree using UPGMA algorithm\n",
        "UPGMATree = constructor.upgma(distance_matrix)"
      ],
      "metadata": {
        "id": "23nvpiYhQUym"
      },
      "execution_count": null,
      "outputs": []
    },
    {
      "cell_type": "code",
      "source": [
        "# Make a better looking tree using the features of matplotlib\n",
        "import matplotlib.pyplot as plt\n",
        "\n",
        "fig = plt.figure(figsize=(20, 12), dpi=300) # create figure & set the size\n",
        "plt.rc('font', size=18)              # fontsize of the leaf and node labels\n",
        "plt.rc('xtick', labelsize=16)       # fontsize of the tick labels\n",
        "plt.rc('ytick', labelsize=16)       # fontsize of the tick labels\n",
        "axes = fig.add_subplot(1, 1, 1)\n",
        "def calculate_branch_lengths(tree):\n",
        "    branch_lengths = {}\n",
        "    for clade in tree.find_clades():\n",
        "        if clade.branch_length:\n",
        "            branch_lengths[clade.name] = clade.branch_length\n",
        "    return branch_lengths\n",
        "\n",
        "# Calculate branch lengths\n",
        "branch_lengths = calculate_branch_lengths(UPGMATree)\n",
        "print(branch_lengths)\n",
        "# drawing the tree\n",
        "Phylo.draw(UPGMATree, axes=axes)\n",
        "fig.savefig(\"UPGMATree\")"
      ],
      "metadata": {
        "id": "ApG_ZvygQU-W"
      },
      "execution_count": null,
      "outputs": []
    },
    {
      "cell_type": "code",
      "source": [
        "UPGMATree.common_ancestor('tiger','leopard')"
      ],
      "metadata": {
        "id": "AtzQfAfWQVHq"
      },
      "execution_count": null,
      "outputs": []
    },
    {
      "cell_type": "code",
      "source": [
        "UPGMATree.get_terminals()"
      ],
      "metadata": {
        "id": "2xF9SmOmQVQ3"
      },
      "execution_count": null,
      "outputs": []
    },
    {
      "cell_type": "code",
      "source": [
        "UPGMATree.get_nonterminals()"
      ],
      "metadata": {
        "id": "oxwC_IGyQVrl"
      },
      "execution_count": null,
      "outputs": []
    },
    {
      "cell_type": "code",
      "source": [
        "UPGMATree.count_terminals()"
      ],
      "metadata": {
        "id": "foA_qc7hQgjM"
      },
      "execution_count": null,
      "outputs": []
    },
    {
      "cell_type": "code",
      "source": [
        "UPGMATree.total_branch_length()"
      ],
      "metadata": {
        "id": "8xNg8Q9tQg36"
      },
      "execution_count": null,
      "outputs": []
    },
    {
      "cell_type": "code",
      "source": [
        "# Construct the phlyogenetic tree using NJ algorithm\n",
        "NJTree = constructor.nj(distance_matrix)\n",
        "# Draw the phlyogenetic tree using terminal\n",
        "Phylo.draw_ascii(NJTree)"
      ],
      "metadata": {
        "id": "auyv2-JaQhDF"
      },
      "execution_count": null,
      "outputs": []
    },
    {
      "cell_type": "code",
      "source": [
        "# Make a better looking tree using the features of matplotlib\n",
        "\n",
        "fig = plt.figure(figsize=(28, 11), dpi=300) # create figure & set the size\n",
        "# matplotlib.rc('font', size=18)              # fontsize of the leaf and node labels\n",
        "# matplotlib.rc('xtick', labelsize=16)       # fontsize of the tick labels\n",
        "# matplotlib.rc('ytick', labelsize=16)       # fontsize of the tick labels\n",
        "\n",
        "# Calculate branch lengths\n",
        "branch_lengths = calculate_branch_lengths(NJTree)\n",
        "\n",
        "axes = fig.add_subplot(1, 1, 1)\n",
        "Phylo.draw(NJTree, axes=axes)\n",
        "\n",
        "fig.savefig(\"NJTree\")"
      ],
      "metadata": {
        "id": "6BEai5K2QmQM"
      },
      "execution_count": null,
      "outputs": []
    }
  ]
}